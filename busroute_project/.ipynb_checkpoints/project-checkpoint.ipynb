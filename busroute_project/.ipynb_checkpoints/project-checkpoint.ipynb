{
 "cells": [
  {
   "cell_type": "code",
   "execution_count": null,
   "id": "213ffa36",
   "metadata": {
    "deletable": false,
    "editable": false
   },
   "outputs": [],
   "source": [
    "# Initialize Otter\n",
    "import otter\n",
    "grader = otter.Notebook(\"project.ipynb\")"
   ]
  },
  {
   "cell_type": "markdown",
   "id": "5ec5720f",
   "metadata": {},
   "source": [
    "# Project 1 – MTS Transit: Navigating San Diego's Bus Network 🚌\n",
    "\n",
    "## DSC 80, Fall 2024\n",
    "\n",
    "### Checkpoint Due Date (Question 1): Friday, January 17th\n",
    "### Due Date: Friday, January 24th"
   ]
  },
  {
   "cell_type": "markdown",
   "id": "0b3dc26b",
   "metadata": {},
   "source": [
    "## Instructions\n",
    "\n",
    "---\n",
    "\n",
    "### Working on the Project\n",
    "\n",
    "This Jupyter Notebook contains the statements of the problems and provides code and Markdown cells to display your answers to the problems.\n",
    "\n",
    "* Like the lab, your coding work will be developed in the accompanying `project.py` file, that will be imported into the current notebook. This code will be autograded.\n",
    "    \n",
    "* **For the Checkpoint, which is required, you only need to turn in a `project.py` containing solutions for Part 1!**\n",
    "    - The \"Project 1 Checkpoint\" autograder on Gradescope does not thoroughly check your code – it only runs the public tests on Question 1 to make sure that you have completed them. There are no hidden tests for the checkpoint, and you will see your score upon submission. \n",
    "    - When you submit the final version of the project, however, we will use hidden tests to check your answers more thoroughly.\n",
    "    - Note that this means you will ultimately have to submit the project twice – once to the \"Project 1 Checkpoint\" autograder (Question 1), and once to the \"Project 1\" autograder (once you're fully done).\n",
    "- **Do not change the function names in `project.py` file!** The functions in `project.py` are how your assignment is graded, and they are graded by their name. If you changed something you weren't supposed to, you can find the original code in the [course GitHub repository](https://github.com/dsc-courses/dsc80-2024-sp).\n",
    "- **To ensure that all of your work to be submitted is in `project.py`, we've included a script named `project-validation.py` in the project folder. You shouldn't edit it, but instead, you should call it from the command line (e.g. the Terminal) to test your work.** More details on its usage are given at the bottom of this notebook.\n",
    "- You are encouraged to write your own additional helper functions to solve the project, as long as they also end up in `project.py`.\n",
    "\n",
    "### Warning! 🚨\n",
    "\n",
    "Many questions in the project intentionally build off of each other and the final result matters! In fact, you can \"get a question correct,\" but only receive partial credit for it because a previous answer was wrong.\n",
    "\n",
    "### Working with a Partner 👯\n",
    "\n",
    "You may work together on projects (and projects only!) with a partner. If you work with a partner, you are both required to actively contribute to all parts of the project. You must both be working on the assignment at the same time together, either physically or virtually on a Zoom call. You are encouraged to follow the pair programming model, in which you work on just a single computer and alternate who writes the code and who thinks about the problems at a high level.\n",
    "\n",
    "In particular, you **cannot** split up the project and each work on separate parts independently.\n",
    "\n",
    "Note that if you do work with a partner, you and your partner must submit the Checkpoint together and the whole project together. See [here](https://dsc80.com/syllabus/#projects) for more details."
   ]
  },
  {
   "cell_type": "code",
   "execution_count": null,
   "id": "6564e78c",
   "metadata": {},
   "outputs": [],
   "source": [
    "%load_ext autoreload\n",
    "%autoreload 2"
   ]
  },
  {
   "cell_type": "code",
   "execution_count": null,
   "id": "a8b39ced",
   "metadata": {},
   "outputs": [],
   "source": [
    "import pandas as pd\n",
    "import numpy as np\n",
    "from pathlib import Path\n",
    "import json\n",
    "import re\n",
    "\n",
    "###\n",
    "from collections import deque\n",
    "from shapely.geometry import Point\n",
    "###\n",
    "\n",
    "import plotly.io as pio\n",
    "import plotly.express as px\n",
    "import plotly.graph_objects as go\n",
    "pd.options.plotting.backend = 'plotly'\n",
    "\n",
    "from IPython.display import display\n",
    "\n",
    "def plot_histogram_with_mean_line(data, nbins=10, title=\"Interval Distribution\"):\n",
    "    mean_interval = data.mean()\n",
    "    fig = px.histogram(data, nbins=nbins, title=title)\n",
    "    fig.update_layout(bargap=0.1)\n",
    "    fig.add_trace(go.Scatter(\n",
    "        x=[None], y=[None],\n",
    "        mode='lines',line=dict(color='Red', width=2),\n",
    "        showlegend=True, name='Mean Interval Length'\n",
    "    ))\n",
    "    fig.update_layout(\n",
    "        title=title,\n",
    "        xaxis_title='Interval Length (Minutes)',\n",
    "        yaxis_title='Count',\n",
    "        shapes=[dict(type='line', x0=mean_interval,\n",
    "                y0=0, x1=mean_interval,\n",
    "                y1=50, line=dict(color='Red', width=2))])\n",
    "    return fig\n",
    "\n",
    "import warnings\n",
    "warnings.filterwarnings(\"ignore\")"
   ]
  },
  {
   "cell_type": "code",
   "execution_count": null,
   "id": "ae406e37",
   "metadata": {},
   "outputs": [],
   "source": [
    "from project import *"
   ]
  },
  {
   "cell_type": "markdown",
   "id": "b42e5353",
   "metadata": {},
   "source": [
    "## About the Assignment 📌\n",
    "\n",
    "Welcome to an in-depth exploration of the San Diego Metropolitan Transit System (MTS)! In this assignment, you will delve into the complexities of urban transit through a real life dataset. By working with this dataset, you will gain practical experience in data visualization, algorithmic analysis, and urban planning. Get ready to navigate the intricate web of bus routes, optimize travel times, and understand the paradoxes of public transit. Let's load in the data.\n"
   ]
  },
  {
   "cell_type": "markdown",
   "id": "c18f6633",
   "metadata": {},
   "source": [
    "Run the cell below to load `schedule` of buses in the city of San Diego. "
   ]
  },
  {
   "cell_type": "code",
   "execution_count": null,
   "id": "d64c20dc",
   "metadata": {},
   "outputs": [],
   "source": [
    "schedule = pd.read_csv('data/schedule.csv')\n",
    "schedule.head()"
   ]
  },
  {
   "cell_type": "markdown",
   "id": "2c1fabd2",
   "metadata": {},
   "source": [
    "Each row of the DataFrame corresponds to a specific stop along a particular bus trip. It provides detailed information about the arrival time of the bus at that stop, the sequence in which the stop is visited during the trip, and the unique identifiers for both the trip and the stop.\n",
    "\n",
    "- `trip_id`: An identifier for each bus trip.\n",
    "- `stop_id`: An identifier for the bus stop.\n",
    "- `stop_sequence`: The order in which stops are visited within a trip.\n",
    "- `shape_dist_traveled`: The distance from previous bus stop. \n"
   ]
  },
  {
   "cell_type": "markdown",
   "id": "8b453d22",
   "metadata": {},
   "source": [
    "Run the cell below to load `stops` of buses in the city of San Diego. "
   ]
  },
  {
   "cell_type": "code",
   "execution_count": null,
   "id": "2a3b9406",
   "metadata": {},
   "outputs": [],
   "source": [
    "stops = pd.read_csv('data/stations.csv')\n",
    "stops.head()"
   ]
  },
  {
   "cell_type": "markdown",
   "id": "caf78bd8",
   "metadata": {},
   "source": [
    "Each row of the `stops` DataFrame corresponds to a specific bus stop. It provides detailed information about the location of the bus stop and its unique identifier.\n",
    "\n",
    "- `stop_id`: An identifier for the bus stop.\n",
    "- `stop_name`: The name of the bus stop.\n",
    "- `stop_lat`: The latitude of the bus stop location.\n",
    "- `stop_lon`: The longitude of the bus stop location."
   ]
  },
  {
   "cell_type": "markdown",
   "id": "e63a7336",
   "metadata": {},
   "source": [
    "Run the cell below to load `trips` of buses in the city of San Diego. "
   ]
  },
  {
   "cell_type": "code",
   "execution_count": null,
   "id": "12b47873",
   "metadata": {},
   "outputs": [],
   "source": [
    "trips = pd.read_csv('data/routes.csv')\n",
    "trips.head()"
   ]
  },
  {
   "cell_type": "markdown",
   "id": "ef4c10bd",
   "metadata": {},
   "source": [
    "Each row of the `trips` DataFrame contains information on each bus route, including the direction and service ID.\n",
    "\n",
    "- `route_id`: An identifier for the bus route.\n",
    "- `service_id`: An identifier for the service schedule.\n",
    "- `trip_id`: An identifier for each bus trip.\n",
    "- `direction_name`: The direction of the trip (e.g., East, West)."
   ]
  },
  {
   "cell_type": "markdown",
   "id": "cb375d52",
   "metadata": {},
   "source": [
    "The `schedule`, `stops`, and `trips` dataframes collectively provide a comprehensive view of the San Diego Metropolitan Transit System (MTS). The `schedule` dataframe details the timing and sequence of bus arrivals at various stops, while the `stops` dataframe offers location-specific information for each bus stop, including their geographic coordinates. The `trips` dataframe ties these elements together by defining the bus line for each bus trip. Together, these datasets enable a detailed analysis of the bus transit network, allowing for visualization of routes, optimization of travel times, and understanding of transit patterns.\n"
   ]
  },
  {
   "cell_type": "markdown",
   "id": "e1d3d157",
   "metadata": {},
   "source": [
    "\n",
    "---\n",
    "\n",
    "<a id='outline'></a>\n",
    "\n",
    "### Navigating the Project 🗺\n",
    "\n",
    "Click on the links below to navigate to different parts of the project. \n",
    "\n",
    "\n",
    "- [✅ Part 1: Visualizing the Network 🚏](#part1)\n",
    "    - [✅ Question 1 (Checkpoint Question)](#question1)\n",
    "- [Part 2: The Quest for the Shortest Route 📍](#part2)\n",
    "    - [Question 2](#question2)\n",
    "- [Part 3: The Time Paradox ⏳](#part3)\n",
    "    - [Question 3](#question3)\n",
    "    - [Question 4](#question4)\n",
    "---\n",
    "\n",
    "<!--     - [✅ Question 1 (Checkpoint Question)](#Question-1) -->"
   ]
  },
  {
   "cell_type": "markdown",
   "id": "79142d41",
   "metadata": {},
   "source": [
    "<a id='part1'></a>\n",
    "\n",
    "## Part 1: Visualizing the Network\n",
    "\n",
    "([return to the outline](#outline))\n",
    "\n",
    "The city's bus lines form a web of connections, linking neighborhoods, workplaces, and leisure spots. On average, MTS serves approximately 226,345 riders every weekday.  Your first task is to visualize this intricate network. By mapping all the bus lines in San Diego, you'll create a visual representation of the city's lifeline, uncovering patterns and insights that go beyond the ordinary commute.\n",
    "\n",
    "We will start by visualizing the San Diego city boundary using a `shapefile`. A shapefile is a popular geospatial vector file to store map data."
   ]
  },
  {
   "cell_type": "markdown",
   "id": "dee7762a",
   "metadata": {},
   "source": [
    "This shapefile in `/data_city` provides a geographic outline of the city, serving as the foundation for plotting our bus stops. Run the following code, it plots an interactive visualization of San Diego city boundary using Plotly."
   ]
  },
  {
   "cell_type": "code",
   "execution_count": null,
   "id": "45ede253",
   "metadata": {},
   "outputs": [],
   "source": [
    "# Load the shapefile for San Diego city boundary\n",
    "san_diego_boundary_path = 'data/data_city/data_city.shp'\n",
    "san_diego_city_bounds = gpd.read_file(san_diego_boundary_path)\n",
    "\n",
    "# Ensure the coordinate reference system is correct\n",
    "san_diego_city_bounds = san_diego_city_bounds.to_crs(\"EPSG:4326\")\n",
    "\n",
    "# Extract the coordinates from the geometry\n",
    "san_diego_city_bounds['lon'] = san_diego_city_bounds.geometry.apply(lambda x: x.centroid.x)\n",
    "san_diego_city_bounds['lat'] = san_diego_city_bounds.geometry.apply(lambda x: x.centroid.y)\n",
    "\n",
    "# Plot using Plotly\n",
    "fig = go.Figure()\n",
    "\n",
    "# Add city boundary\n",
    "fig.add_trace(go.Choroplethmapbox(\n",
    "    geojson=san_diego_city_bounds.__geo_interface__,\n",
    "    locations=san_diego_city_bounds.index,\n",
    "    z=[1] * len(san_diego_city_bounds),\n",
    "    colorscale=\"Greys\",\n",
    "    showscale=False,\n",
    "    marker_opacity=0.5,\n",
    "    marker_line_width=1,\n",
    "))\n",
    "\n",
    "# Update layout\n",
    "fig.update_layout(\n",
    "    mapbox=dict(\n",
    "        style=\"carto-positron\",\n",
    "        center={\"lat\": san_diego_city_bounds['lat'].mean(), \"lon\": san_diego_city_bounds['lon'].mean()},\n",
    "        zoom=10,\n",
    "    ),\n",
    "    margin={\"r\":0,\"t\":0,\"l\":0,\"b\":0}\n",
    ")\n",
    "\n",
    "fig.show()\n"
   ]
  },
  {
   "cell_type": "markdown",
   "id": "2376b962",
   "metadata": {},
   "source": [
    "<!-- ### ✅ Question 1 (Checkpoint Question) -->\n",
    "\n",
    "### ✅ Question 1 (Checkpoint Question)\n",
    "\n",
    "\n",
    "<a id='question1'></a>\n",
    "\n",
    "([return to the outline](#outline))\n",
    "\n",
    "Now, your objective is to extend this visualization by plotting the bus stops on top of the city boundary, color-coded by bus line. Before we can do that, we must explore the provided DataFrames and identify which CSV files are necessary for plotting. \n",
    "\n",
    "#### `create_detailed_schedule`\n",
    "Complete the implementation of the function `create_detailed_schedule`, which takes in the following inputs:\n",
    "\n",
    "- `schedule` (DataFrame): This is the DataFrame of bus schedules. \n",
    "- `stops` (DataFrame): This is the DataFrame of bus stops. \n",
    "- `trips` (DataFrame): This is the DataFrame of trip made by San Diego buses.\n",
    "- `bus_lines` (List): A list of unique bus lines. \n",
    "\n",
    "The function should return a DataFrame indexed by `trip_id`, containing detailed information about which bus lines stop at each bus station. \n",
    "\n",
    "***Notes:***\n",
    "- The `stops` DataFrame includes the coordinate locations of bus stops but does not indicate which buses stop there. Merge relevant DataFrames to link each stop to its bus route.\n",
    "- In the output DataFrame, ensure that rows are ordered so that all stops for each route appear sequentially, in the exact order that `bus_lines` lists them. For example, if `bus_lines` lists route 105 before route 30, all rows for route 105 should appear before any rows for route 30.\n",
    "- Try filtering for route 105 in the trips data; you’ll find it has multiple unique paths a bus line can take, depending on various circumstances (e.g., time of day or detours). In your output, ensure these paths are sorted so that the shortest unique path (with the fewest stops) appears first, followed by paths with longer stops in ascending order of length.\n",
    "\n",
    "  \n",
    "Expected Columns: \n",
    "\n",
    "- `trip_id` (Index): An identifier for each bus trip.\n",
    "- `stop_id`: The ID of the bus stop.\n",
    "- `stop_sequence`: The order in which the bus stops are visited.\n",
    "- `shape_dist_traveled`: The distance traveled from the start of the route to the stop.\n",
    "- `stop_name`: The name of the bus stop.\n",
    "- `stop_lat`: The latitude of the bus stop.\n",
    "- `stop_lon`: The longitude of the bus stop.\n",
    "- `route_id`: The ID of the bus route.\n",
    "- `service_id`: The ID of the service.\n",
    "- `direction_name`: The direction of the bus route.\n",
    "\n",
    "**Hint:** Use `pd.Categorical()` to ensure the bus routes in the DataFrame are sorted in the same order as they appear in the `bus_lines` list.\n",
    "\n",
    "<br>\n",
    "\n",
    "#### `visualize_bus_network`\n",
    "\n",
    "Once your data is prepared, create a Plotly visualization of your 10 chosen bus routes by completing the function visualize_bus_network. We’ve provided the city boundary plot, so plot the routes over this base map.\n",
    "\n",
    "Function Inputs:\n",
    "\n",
    "- `bus_df` (DataFrame): The DataFrame returned by `create_detailed_schedule()` containing all relevant data for plotting the bus routes.\n",
    "\n",
    "**Note:** Assign Colors to Bus Lines: Use a dictionary to assign each bus line a unique color. You can manually select hex color codes (e.g., #EF553B) or use Plotly’s `px.colors.qualitative.Plotly` for an automatic color palette.\n",
    "\n",
    "Plot Bus Stops for Each Route Using a Loop:\n",
    "\n",
    "- Use a for `loop` to iterate through the bus lines and call `go.Scattermapbox()` in each iteration, resulting in 10 `Scattermapbox()` traces.\n",
    "- Filter `bus_df` to include only rows for the current bus line.\n",
    "- Use stop_lat and stop_lon columns from bus_df to plot each bus stop.\n",
    "- Set the `name` parameter in `Scattermapbox()` to follow the format `Bus Line XX`.\n",
    "- Use the `text` parameter to display bus stop names when users hover over a marker.\n",
    "\n",
    "For additional help with debugging and understanding the code structure, you can refer to the example provided [here](https://plotly.com/python/tile-scatter-maps/#nuclear-waste-sites-on-campuses). The approach in that example is similar to what you’ll be doing, although it’s focused on different data.\n",
    "\n",
    "Function Output Example:\n",
    "\n",
    "![10 Bus Lines](images/network.png)\n",
    "\n",
    "\n",
    "You may use ChatGPT to help you plot the bus stops. Here are some prompts to help you get started: \n",
    "- \"What are the differences between `Scattermapbox` and `Choroplethmapbox` in Plotly?\"\n",
    "- \"I’m working on a function to plot bus routes using Plotly. How can I use `go.Scattermapbox()` to plot points for each bus stop?\"\n",
    "- \"How do I assign unique colors to each bus line using Plotly’s color palette?\"\n"
   ]
  },
  {
   "cell_type": "code",
   "execution_count": null,
   "id": "b5277962",
   "metadata": {
    "tags": []
   },
   "outputs": [],
   "source": []
  },
  {
   "cell_type": "code",
   "execution_count": null,
   "id": "96a3f565",
   "metadata": {
    "tags": []
   },
   "outputs": [],
   "source": []
  },
  {
   "cell_type": "code",
   "execution_count": null,
   "id": "4722628d",
   "metadata": {
    "scrolled": true
   },
   "outputs": [],
   "source": [
    "# don't change this cell, but do run it -- it is needed for the tests\n",
    "unique_route_ids = [\"201\", \"202\", \"30\", \"35\", \"43\", \"44\", \"105\", \"31\", \"5\", \"10\"]\n",
    "output_preprocessing = create_detailed_schedule(schedule, stops, trips, unique_route_ids)\n",
    "fig = visualize_bus_network(output_preprocessing)\n",
    "fig_json = fig.to_json()\n",
    "fig_data = json.loads(fig_json)\n",
    "fig.show()"
   ]
  },
  {
   "cell_type": "code",
   "execution_count": null,
   "id": "70fe4f96",
   "metadata": {},
   "outputs": [],
   "source": [
    "# hidden test setup\n",
    "unique_route_ids = [ \"105\", \"DNE\", \"31\", \"202\"]\n",
    "prep_2 = create_detailed_schedule(schedule, stops, trips, unique_route_ids)"
   ]
  },
  {
   "cell_type": "code",
   "execution_count": null,
   "id": "ff697d39",
   "metadata": {
    "deletable": false,
    "editable": false
   },
   "outputs": [],
   "source": [
    "grader.check(\"q1\")"
   ]
  },
  {
   "cell_type": "markdown",
   "id": "6ad44cfd",
   "metadata": {},
   "source": [
    "<a id='part2'></a>\n",
    "\n",
    "## Part 2: The Quest for the Shortest Route 📍\n",
    "\n",
    "([return to the outline](#outline))\n",
    "\n",
    "Next, let's find the shortest path between two points. Given the start and end destinations, your task is to output the stops that makes up the shortest path between these two points. Leverage the Breadth-First Search (BFS) algorithm, which you learned in DSC 30. This algorithm is well-suited for finding the shortest path in an unweighted graph, such as our bus stop network. \n",
    "\n",
    "\n"
   ]
  },
  {
   "cell_type": "markdown",
   "id": "491a2f56",
   "metadata": {},
   "source": [
    "### Question 2\n",
    "\n",
    "\n",
    "<a id='question2'></a>\n",
    "\n",
    "([return to the outline](#outline))\n",
    "\n",
    "#### `find_neighbors`\n",
    "In order to find the shortest path, you will need a helper function to find the closest neighbor(s) at a given station. Complete the implementation of the function `find_neighbors`, which takes the following inputs:\n",
    "\n",
    "- `station_name` (str): The name of the current station.\n",
    "- `detailed_schedule` (DataFrame): Preprocessed DataFrame created from `create_detailed_schedule` function in Part 1.\n",
    "\n",
    "The function should return an `array` containing the strings of next station name(s). \n",
    "\n",
    "**Note:** This is a non-trivial task, so let’s break it down with an example. Suppose we are looking for the neighboring nodes of `Gilman Dr & Eucalyptus Grove Ln`. There are three unique bus routes that travel through `Gilman Dr & Eucalyptus Grove Ln`. Let's focus on route 30. As you learned, some bus lines have more than one unique path. In this case, route 30 has two unique paths that both travel through `Gilman Dr & Eucalyptus Grove Ln`. For one path, the next stop is `Gilman Dr & Myers Dr`, and for the other path, the next stop is `N Torrey Pines Rd & Revelle College Dr`. Ensure your function considers both cases. \n",
    "\n",
    "\n",
    "**Hint:** Since `trip_id` uniquely identifies each trip, consider how it can help you find all trips passing through the station. Then, use the `stop_sequence` to locate the stop that immediately follows the current station in each trip. This approach ensures you capture all possible next stops across different trips.\n",
    "\n",
    "\n",
    "####  `bfs`\n",
    "\n",
    "To complete this section, you must return the shortest path from point A to point B. That means, you may use an algorithm of your choice to find the least number of bus stops from a given `start_station` to the `end_station`. Complete the implementation of the function `bfs`. Think of how you can use your previously created function find_neighbors() as an helper function to solve this. If no path can be found, the function should return the string \"No path found\".\n",
    "\n",
    "- `start_station` (string): This is the name of the starting point station. \n",
    "- `end_station` (string): This is the name of the end point station.\n",
    "- `detailed_schedule` (DataFrame): Preprocessed DataFrame created from `create_detailed_schedule` function in Part 1.\n",
    "\n",
    "If the `start_station` does not exist, the function should return `\"Start station {start_station} not found.\"` For example, \"UTC\" is not a real station name. Therefore, the function would return `\"Start station UTC not found.\"`Also, if the end station does not exist, the function should return `\"End station '{end_station}' not found.\"`\n",
    "\n",
    "The output DataFrame should include:\n",
    "\n",
    "- `stop_name`: The name of the bus stop.\n",
    "- `stop_lat`: Latitude of the bus stop.\n",
    "- `stop_lon`: Longitude of the bus stop.\n",
    "- `stop_num`: The order in which the stops are visited on the shortest path.\n",
    "\n",
    "Example, say we want to find the shortest path from UC San Diego to UTC. Your function should return the following: \n",
    "\n",
    "|         | stop_name                        | stop_lat  | stop_lon    | stop_num |\n",
    "|---------|----------------------------------|-----------|-------------|----------|\n",
    "| **0**   | Gilman Dr & Eucalyptus Grove Ln  | 32.875266 | -117.238755 | 1        |\n",
    "| **1**   | Gilman Dr & Myers Dr             | 32.876949 | -117.235533 | 2        |\n",
    "| **2**   | VA Hospital                      | 32.874753 | -117.233834 | 3        |\n",
    "| **3**   | La Jolla Village Dr & Lebon Dr   | 32.871250 | -117.223855 | 4        |\n",
    "| **4**   | La Jolla Village Dr & Regents Rd | 32.871503 | -117.218669 | 5        |\n",
    "| **5**   | UTC Transit Center               | 32.869248 | -117.213559 | 6        |\n",
    "\n"
   ]
  },
  {
   "cell_type": "code",
   "execution_count": null,
   "id": "8bbc23de",
   "metadata": {
    "tags": []
   },
   "outputs": [],
   "source": []
  },
  {
   "cell_type": "code",
   "execution_count": null,
   "id": "59eaed81",
   "metadata": {
    "tags": []
   },
   "outputs": [],
   "source": []
  },
  {
   "cell_type": "code",
   "execution_count": null,
   "id": "70b17e50",
   "metadata": {},
   "outputs": [],
   "source": [
    "# don't change this cell, but do run it -- it is needed for the tests\n",
    "unique_route_ids = [\"201\", \"202\", \"30\", \"35\", \"43\", \"44\", \"105\", \"31\", \"5\", \"10\"]\n",
    "detailed_schedule = create_detailed_schedule(schedule, stops, trips, unique_route_ids)\n",
    "# public test setup\n",
    "neighbors_output_na = find_neighbors(\"Nonexistent Station\", detailed_schedule)\n",
    "neighbors_output = find_neighbors(\"La Jolla Village Dr & Lebon Dr\", detailed_schedule)\n",
    "bfs_output = bfs(\"Gilman Dr & Eucalyptus Grove Ln\", \"UTC Transit Center\", detailed_schedule)\n",
    "# hidden test setup\n",
    "neighbors_hidden = find_neighbors(\"UTC Transit Center\", detailed_schedule)\n",
    "neighbors_hidden2 = find_neighbors(\"Pacific Hwy & Enterprise St\", detailed_schedule)\n",
    "bfs_hidden = bfs(\"Gilman Dr & Eucalyptus Grove Ln\", \"Nobel Dr & La Jolla Village Square Drwy\", detailed_schedule)"
   ]
  },
  {
   "cell_type": "code",
   "execution_count": null,
   "id": "be43da18",
   "metadata": {},
   "outputs": [],
   "source": [
    "bfs_output"
   ]
  },
  {
   "cell_type": "markdown",
   "id": "ae596789",
   "metadata": {},
   "source": [
    "Now that you have implemented the `bfs` function to find the shortest path between two bus stops, it's time to see it in action! The code provided below will help you visualize the data and validate your algorithm. By running this cell, you will be able to see the shortest path from your specified start_station to end_station plotted on a map, giving you a clear visual representation of the route.\n",
    "\n",
    "This step is crucial for verifying that your algorithm works correctly and efficiently. It will also help you understand how the bus routes are connected in the San Diego Metropolitan Transit System. Simply run the cell, and observe the output to ensure your function is performing as expected."
   ]
  },
  {
   "cell_type": "code",
   "execution_count": null,
   "id": "6a6cb7b1",
   "metadata": {},
   "outputs": [],
   "source": [
    "def shortest_path_visualization(route_points_sorted):\n",
    "\n",
    "    geometry = [Point(xy) for xy in zip(route_points_sorted['stop_lon'], route_points_sorted['stop_lat'])]\n",
    "    stops_gdf = gpd.GeoDataFrame(route_points_sorted, geometry=geometry)\n",
    "    stops_gdf.crs = \"EPSG:4326\"\n",
    "\n",
    "    san_diego_boundary_path = 'data/data_city/data_city.shp'\n",
    "    san_diego_city_bounds = gpd.read_file(san_diego_boundary_path)\n",
    "    san_diego_city_bounds = san_diego_city_bounds.to_crs(\"EPSG:4326\")\n",
    "\n",
    "\n",
    "    # Plot city boundary using Plotly\n",
    "    fig = go.Figure()\n",
    "\n",
    "    fig.add_trace(go.Choroplethmapbox(\n",
    "        geojson=san_diego_city_bounds.__geo_interface__,\n",
    "        locations=san_diego_city_bounds.index,\n",
    "        z=[1] * len(san_diego_city_bounds),\n",
    "        colorscale=\"Greys\",\n",
    "        showscale=False,\n",
    "        marker_opacity=0.5,\n",
    "        marker_line_width=1,\n",
    "    ))\n",
    "\n",
    "    center_lat = route_points_sorted['stop_lat'].mean()\n",
    "    center_lon = route_points_sorted['stop_lon'].mean()\n",
    "\n",
    "    # Add bus stops of shortest path\n",
    "    fig.add_trace(go.Scattermapbox(\n",
    "        lat=route_points_sorted['stop_lat'],\n",
    "        lon=route_points_sorted['stop_lon'],\n",
    "        mode='markers',\n",
    "        marker=go.scattermapbox.Marker(\n",
    "            size=12,\n",
    "            color='red',\n",
    "            opacity=0.7\n",
    "        ),\n",
    "        name=\"Shortest Path\",\n",
    "        text=route_points_sorted['stop_name']\n",
    "    ))\n",
    "\n",
    "    fig.update_layout(\n",
    "        mapbox=dict(\n",
    "            style=\"carto-positron\",\n",
    "            zoom=14,\n",
    "            center=dict(lat=center_lat, lon=center_lon),\n",
    "        ),\n",
    "        legend_title_text='Bus Lines',\n",
    "        margin={\"r\":0,\"t\":0,\"l\":0,\"b\":0}\n",
    "    )\n",
    "\n",
    "    return fig"
   ]
  },
  {
   "cell_type": "code",
   "execution_count": null,
   "id": "8f534d26",
   "metadata": {
    "scrolled": true
   },
   "outputs": [],
   "source": [
    "shortest_path_visualization(bfs_output)"
   ]
  },
  {
   "cell_type": "code",
   "execution_count": null,
   "id": "20a690f3",
   "metadata": {
    "deletable": false,
    "editable": false
   },
   "outputs": [],
   "source": [
    "grader.check(\"q2\")"
   ]
  },
  {
   "cell_type": "markdown",
   "id": "048c8a0b",
   "metadata": {},
   "source": [
    "<a id='part3'></a>\n",
    "\n",
    "## Part 3: The Waiting Time Paradox ⏳\n",
    "\n",
    "([return to the outline](#outline))\n",
    "\n",
    "Have you ever waited longer than 15 minutes for a bus that’s supposed to arrive every 10 minutes? You might wonder why you are so unlucky. However, using the Poisson process, we can explain that this is actually quite normal. This phenomenon is known as the Waiting Time Paradox.\n",
    "\n",
    "> Imagine you are at a bus station where buses arrive throughout the day, with a bus coming every 10 minutes on average. If the most recent bus leaves just before you arrive, you might have to wait 9 or 10 minutes for the next one. If you randomly arrive at the station, an educated guess for your “waiting time” might be 5 minutes, which is half the time between buses on average. However, this guess does NOT capture the whole picture. In reality, you will typically wait longer than 5 minutes. In fact, your expected waiting time will be closer to 10 minutes. **In the following sections we will explore why your your average wait time is longer than half the interval.**\n",
    "\n",
    "Let’s simulate bus arrivals and see how waiting times are distributed. We will generate a series of random bus arrival times and calculate the intervals between them. By plotting these intervals, we can visualize their distribution and understand why waiting longer than 15 minutes is not uncommon.\n"
   ]
  },
  {
   "cell_type": "markdown",
   "id": "8e597995",
   "metadata": {},
   "source": [
    "### Question 3\n",
    "\n",
    "<a id='question3'></a>\n",
    "\n",
    "([return to the outline](#outline))\n",
    "\n",
    "#### `simulate_bus_arrivals`\n",
    "\n",
    "Complete the implementation of the function `simulate_bus_arrivals_uniform`. Your task is to generate bus arrival times, randomly spread out using a uniform distribution from 6 AM to 12 AM (midnight). Assume that, on average, buses are scheduled to arrive every `tau` minutes. For example, if `tau` is 10, roughly 6 buses should arrive at the bus station every hour. \n",
    "\n",
    "function input:\n",
    "- `tau` (float): The average time between bus arrivals in minutes.\n",
    "\n",
    "The function should return a DataFrame with the following columns:\n",
    "- `Arrival Time` (str): Bus arrival times as strings.\n",
    "- `Interval` (float): The interval in minutes between consecutive bus arrivals.\n",
    "\n",
    "**Hint:** Think about how to represent the time range between 6:00 AM (360 minutes) and 12:00 AM (1440 minutes) to simplify calculations. If buses arrive, on average, every `tau` minutes, you can estimate the total number of buses using:\n",
    "\n",
    "$$\n",
    "\\text{Number of Buses} = \\frac{1440 - 360}{\\tau}\n",
    "$$\n",
    "\n",
    "This formula estimates the expected number of buses by dividing the total time range by `tau`. How might you use this to generate a uniform distribution of bus arrivals? An example output might look like this:\n",
    "\n",
    "|   | Arrival Time | Interval   |\n",
    "|--------|--------------|------------|\n",
    "| 0      | 06:08:29     | 8.49       |\n",
    "| 1      | 06:17:20     | 8.86       |\n",
    "| 2      | 06:20:11     | 2.85       |\n",
    "| 3      | 06:20:50     | 0.65       |\n",
    "| 4      | 06:38:57     | 18.12      |\n",
    "\n",
    "**Note:** For the first bus (index 0), the `Interval` column should represent the time elapsed from 6:00 AM to its arrival.\n"
   ]
  },
  {
   "cell_type": "code",
   "execution_count": null,
   "id": "f5f2bb0f",
   "metadata": {
    "tags": []
   },
   "outputs": [],
   "source": []
  },
  {
   "cell_type": "code",
   "execution_count": null,
   "id": "872fe4e1",
   "metadata": {
    "tags": []
   },
   "outputs": [],
   "source": []
  },
  {
   "cell_type": "markdown",
   "id": "1eec3a54",
   "metadata": {},
   "source": [
    "Run the cell below to call `simulate_bus_arrivals` to simulate bus arrivals every 10 minutes. Make sure to run this cell before moving forward, otherwise the tests won't work correctly."
   ]
  },
  {
   "cell_type": "code",
   "execution_count": null,
   "id": "caac3a0c",
   "metadata": {},
   "outputs": [],
   "source": [
    "bus_distribution = simulate_bus_arrivals(10)\n",
    "bus_distribution.head()"
   ]
  },
  {
   "cell_type": "markdown",
   "id": "8e61978c",
   "metadata": {},
   "source": [
    "If you have implemented the bus arrival simulation correctly, the histogram of the intervals between bus arrivals should roughly follow a decreasing exponential distribution. Run the following to confirm you simulation is implemented correctly. "
   ]
  },
  {
   "cell_type": "code",
   "execution_count": null,
   "id": "d9694f27",
   "metadata": {},
   "outputs": [],
   "source": [
    "data = simulate_bus_arrivals(10)['Interval'] \n",
    "plot_histogram_with_mean_line(data).show()"
   ]
  },
  {
   "cell_type": "code",
   "execution_count": null,
   "id": "e59e24e4",
   "metadata": {
    "deletable": false,
    "editable": false
   },
   "outputs": [],
   "source": [
    "grader.check(\"q3\")"
   ]
  },
  {
   "cell_type": "markdown",
   "id": "f71b0549",
   "metadata": {},
   "source": [
    "By simulating bus arrivals and plotting the intervals between them, we can see that the intervals follow an exponential distribution. **This is a key attribute of the Poisson process: the time intervals between events decrease exponentially.** In other words, shorter intervals are more common, but longer intervals, although less frequent, do occur and can significantly affect the average waiting time. The Waiting Time Paradox occurs because when you arrive at the bus stop at a random time, you are more likely to arrive during a longer interval between buses rather than a shorter one. "
   ]
  },
  {
   "cell_type": "markdown",
   "id": "c429a597",
   "metadata": {},
   "source": [
    "### Question 4\n",
    "<a id='question4'></a>\n",
    "\n",
    "([return to the outline](#outline))\n",
    "\n",
    "Even though buses are scheduled to arrive every 10 minutes on average, your actual waiting time can often be longer. To explore this concept further, let's create a chart that visualizes passenger waiting times based on simulated bus arrivals. Your task is to simulate the arrival of random passengers, calculate the waiting times for each passenger, and plot the bus arrival times and passenger waiting times to visualize the distribution: \n",
    "\n",
    "![San Diego Shortest Path](images/vis.png)\n",
    "\n",
    "<br>\n",
    "\n",
    "####  `simulate_wait_times`\n",
    "\n",
    "Complete the implementation of the function `simulate_wait_times`. This function will take the simulated bus arrival times and calculate the waiting time for each passenger, as well as the index and the arrival time of the bus they will catch.\n",
    "\n",
    "- `arrival_times` (DataFrame): This is the bus arrivals generated by `simulate_bus_arrivals_uniform(tau)`. \n",
    "- `n_passengers` (int): The number of passengers\n",
    "\n",
    "The function should A DataFrame containing the following columns:\n",
    "- `Passenger Arrival Time` (str): The randomly generated arrival times of passengers at the bus stop (as str objects).\n",
    "- `Bus Arrival Time` (str): The actual arrival time of the bus that each passenger will catch (as str objects).\n",
    "- `Bus Index` (int): The index of the bus that each passenger will catch.\n",
    "- `Wait Time` (float): The calculated waiting times for each passenger in minutes.\n",
    "\n",
    "\n",
    "**Note**: You need to generate random arrival times for passengers starting from 6 AM and continuing until the latest bus arrival. First, think about how to represent 6 AM in terms of minutes (since we’re working with time in minutes). Then, calculate the maximum possible time a passenger can arrive by using the latest bus arrival time. Use `np.random.rand` which generates random numbers to simulate passengers arriving at different times between these two points (6 AM and the latest bus arrival). Once you have the random arrival times for passengers, make sure they are sorted in ascending order. This will help you when calculating how long each passenger waits for the next bus.\n",
    "\n",
    "**Hint:** You may need to use a loop that checks each bus time and advances to the next bus until you find one that is later than the passenger’s arrival.\n",
    "\n",
    "<br>\n",
    "\n",
    "####  `visualize_wait_times`\n",
    "Now that you have the passenger wait times and bus arrival times calculated, the next step is to visualize this data to understand how the Waiting Time Paradox affects passengers. You will create a Plotly visualization to show the distribution of both bus arrivals and passenger wait times within a specific one-hour block. Title the visualization as `Passenger Wait Times`.\n",
    "\n",
    "Function Inputs:\n",
    "- `wait_times_df` (DataFrame): A DataFrame containing the bus and passenger arrival times, wait times, and bus indices.\n",
    "- `timestamp` (pd.Timestamp): The start time of the block, in the format of `HH:MM:SS`.\n",
    "\n",
    "**Note:** You are not required to understand all the details of Plotly, but you should focus on visualizing the bus routes. We encourage you to use ChatGPT to help create the visualization. When prompting ChatGPT for assistance, focus on three things:\n",
    "  \n",
    "- Plot bus arrival times as blue markers: Use `go.Scatter()` to plot the bus arrival times on the x-axis, with y-values set to 0.\n",
    "- Plot passenger arrival times and wait times as red markers: Use another `go.Scatter()` to plot passenger arrival times on the x-axis and their wait times on the y-axis.\n",
    "- Draw vertical lines for each passenger from their arrival time (x) to their wait time (y) to illustrate the waiting duration. Try using a for loop when iterating through the passengers. \n"
   ]
  },
  {
   "cell_type": "code",
   "execution_count": null,
   "id": "d00b8004",
   "metadata": {
    "tags": []
   },
   "outputs": [],
   "source": []
  },
  {
   "cell_type": "code",
   "execution_count": null,
   "id": "ab2433a6",
   "metadata": {
    "tags": []
   },
   "outputs": [],
   "source": []
  },
  {
   "cell_type": "code",
   "execution_count": null,
   "id": "cf8c87e0",
   "metadata": {},
   "outputs": [],
   "source": [
    "# don't change this cell, but do run it -- it is needed for the tests\n",
    "passenger_wait_times_df = simulate_wait_times(simulate_bus_arrivals(10), 1000) \n",
    "passenger_wait_times_df.head()"
   ]
  },
  {
   "cell_type": "code",
   "execution_count": null,
   "id": "bd1ff8ba",
   "metadata": {},
   "outputs": [],
   "source": [
    "# don't change this cell, but do run it -- it is needed for the tests\n",
    "wait_times_df = simulate_wait_times(simulate_bus_arrivals(10), 2000)\n",
    "fig_q4 = visualize_wait_times(wait_times_df, pd.Timestamp('13:00:00'))\n",
    "visualize_wait_times_fig = fig_q4.data\n",
    "fig_q4"
   ]
  },
  {
   "cell_type": "markdown",
   "id": "40962413",
   "metadata": {},
   "source": [
    "The Waiting Time Paradox occurs because when you arrive at the bus stop at a random time, you are more likely to arrive during a longer interval between buses. **This happens because longer intervals simply cover more time, making it more probable that you will find yourself waiting during one of these longer gaps.**\n",
    "\n",
    "This paradox helps explain why passengers frequently experience longer wait times than the scheduled intervals might suggest. By visualizing both bus arrivals and passenger waiting times within a specific one-hour block, we can see this phenomenon in action."
   ]
  },
  {
   "cell_type": "code",
   "execution_count": null,
   "id": "cb69cf99",
   "metadata": {},
   "outputs": [],
   "source": [
    "# Test Cases\n",
    "passenger_wait_times_df"
   ]
  },
  {
   "cell_type": "code",
   "execution_count": null,
   "id": "6ef5046d",
   "metadata": {
    "deletable": false,
    "editable": false
   },
   "outputs": [],
   "source": [
    "grader.check(\"q4\")"
   ]
  },
  {
   "cell_type": "markdown",
   "id": "f1bc8f37",
   "metadata": {},
   "source": [
    "### Real Data\n",
    "\n",
    "So far, we've been using simulated data, which we generated under the assumptions of the Poisson process. But does real bus data follow this same distribution? Let's find out with actual bus arrival data:"
   ]
  },
  {
   "cell_type": "code",
   "execution_count": null,
   "id": "408cf1c2",
   "metadata": {},
   "outputs": [],
   "source": [
    "arrivals = pd.read_csv('data/arrivals.csv')\n",
    "arrivals.head()"
   ]
  },
  {
   "cell_type": "markdown",
   "id": "d910e70e",
   "metadata": {},
   "source": [
    "To see if real bus data follows a Poisson process, we will analyze the intervals between actual bus arrivals and compare the distribution of these intervals to our simulated data. If the real bus intervals follow an exponential distribution, it would suggest that they follow a Poisson process. However, if they deviate significantly, it would indicate that real-world bus systems do not follow this theoretical model. Run the cell below to find out:"
   ]
  },
  {
   "cell_type": "code",
   "execution_count": null,
   "id": "acd7c3fa",
   "metadata": {},
   "outputs": [],
   "source": [
    "arrivals[\"Interval\"] = (pd.to_datetime(arrivals['Arrival Time'], format='%H:%M:%S').dt.hour * 60 + \n",
    "                        pd.to_datetime(arrivals['Arrival Time'], format='%H:%M:%S').dt.minute + \n",
    "                        pd.to_datetime(arrivals['Arrival Time'], format='%H:%M:%S').dt.second / 60).sort_values().diff()\n",
    "\n",
    "plot_histogram_with_mean_line(arrivals['Interval'] ).show()"
   ]
  },
  {
   "cell_type": "markdown",
   "id": "850ce223",
   "metadata": {},
   "source": [
    "Upon examining the results, it looks like the interval arrivals of buses in real life does not decrease exponentially. This means that the arrival of buses does not follow a Poisson point process. This makes sense because, in practice, bus schedules are structured to optimize service for passengers, not to follow a random Poisson process. Buses do not start their routes at random times but follow a deliberate schedule designed to provide regular and reliable service. \n",
    "\n",
    "\n",
    "Now, let's check if the Waiting Time Paradox still exists. Using the function `simulate_wait_times()`, we can calculate the average wait times using real bus arrivals. The Waiting Time Paradox states that the average waiting time for a passenger who arrives at a random time will be longer than half the average interval between buses.\n",
    "\n",
    "Let's see if this holds true with real-world bus data. Run the cell below: "
   ]
  },
  {
   "cell_type": "code",
   "execution_count": null,
   "id": "41eb915d",
   "metadata": {},
   "outputs": [],
   "source": [
    "wait_times = simulate_wait_times(arrivals, 1000)  # wait time of random passengers arriving to real bus data\n",
    "passenger_wait_times = wait_times['Wait Time'].mean()\n",
    "average_bus_arrival_times = arrivals[\"Interval\"].mean()\n",
    "\n",
    "print('Average Passenger Wait Time: ' + str(passenger_wait_times))\n",
    "print('Average Bus Arrival Interval Length: ' + str(average_bus_arrival_times))"
   ]
  },
  {
   "cell_type": "markdown",
   "id": "540c8691",
   "metadata": {},
   "source": [
    "Despite the fact that real bus arrivals do not follow a Poisson process, we observe that the average waiting time for passengers (6 minutes) is still very close to the average interval between buses (7 minutes). This suggests that passengers are still experiencing longer waiting times, which is consistent with the Waiting Time Paradox.\n",
    "\n",
    "### Real-World Bus Systems\n",
    "\n",
    "In practice, bus schedules are structured to optimize service for passengers, not to follow a random Poisson process. Buses do not start their routes at random times but follow a deliberate schedule designed to provide regular and reliable service.\n",
    "\n",
    "### Lessons Learned\n",
    "\n",
    "The larger lesson here is to be cautious with assumptions in data analysis. While the Poisson process is a useful model for certain types of arrival data, it does not always apply to real-world scenarios. Assumptions that seem correct theoretically can lead to incorrect conclusions when applied to practical situations. For a more in-depth explanation, check out this [article](https://jakevdp.github.io/blog/2018/09/13/waiting-time-paradox/) which delves into the probabilistic reasons behind this paradox."
   ]
  },
  {
   "cell_type": "markdown",
   "id": "bf2787f9",
   "metadata": {},
   "source": [
    "## Congratulations, you've finished Project 1! 🎉\n",
    "\n",
    "As a reminder, all of the work you want to submit needs to be in `project.py`.\n",
    "\n",
    "To ensure that all of the work you want to submit is in `project.py`, we've included a script named `project-validation.py` in the project folder. You shouldn't edit it, but instead, you should call it from the command line (e.g. the Terminal) to test your work.\n",
    "\n",
    "Once you've finished the project, you should open the command line and run, in the directory for this project:\n",
    "\n",
    "```\n",
    "python project-validation.py\n",
    "```\n",
    "\n",
    "**This will run all of the `grader.check` cells that you see in this notebook, but only using the code in `project.py` – that is, it doesn't look at any of the code in this notebook. If all of your `grader.check` cells pass in this notebook but not all of them pass in your command line with the above command, then you likely have code in your notebook that isn't in your `project.py`!**\n",
    "\n",
    "You can also use `project-validation.py` to test individual questions. For instance,\n",
    "\n",
    "```\n",
    "python project-validation.py q1 q2\n",
    "```\n",
    "\n",
    "will run the `grader.check` cells for Questions 1 and 2 – again, only using the code in `project.py`.\n",
    "\n",
    "Once `python project-validation.py` shows that you're passing all test cases, you're ready to submit your `project.py` (and only your `project.py`) to Gradescope. Once submitting to Gradescope, make sure to stick around until all test cases pass.\n",
    "\n",
    "There is also a call to `grader.check_all()` below in _this_ notebook, but make sure to also follow the steps above."
   ]
  },
  {
   "cell_type": "markdown",
   "id": "47204078",
   "metadata": {
    "deletable": false,
    "editable": false
   },
   "source": [
    "---\n",
    "\n",
    "To double-check your work, the cell below will rerun all of the autograder tests."
   ]
  },
  {
   "cell_type": "code",
   "execution_count": null,
   "id": "a1ca693f",
   "metadata": {
    "deletable": false,
    "editable": false
   },
   "outputs": [],
   "source": [
    "grader.check_all()"
   ]
  }
 ],
 "metadata": {
  "kernelspec": {
   "display_name": "Python 3 (ipykernel)",
   "language": "python",
   "name": "python3"
  },
  "language_info": {
   "codemirror_mode": {
    "name": "ipython",
    "version": 3
   },
   "file_extension": ".py",
   "mimetype": "text/x-python",
   "name": "python",
   "nbconvert_exporter": "python",
   "pygments_lexer": "ipython3",
   "version": "3.12.7"
  },
  "otter": {
   "tests": {
    "q1": {
     "name": "q1",
     "points": null,
     "suites": [
      {
       "cases": [
        {
         "code": ">>> output_preprocessing.index.name == 'trip_id'\nTrue",
         "failure_message": "correct index",
         "hidden": false,
         "locked": false,
         "points": 0.5
        },
        {
         "code": ">>> isinstance(output_preprocessing, pd.DataFrame)\nTrue",
         "failure_message": "correct type",
         "hidden": false,
         "locked": false,
         "points": 0.5
        },
        {
         "code": ">>> output_preprocessing.shape == (740, 9)\nTrue",
         "failure_message": "correct shape",
         "hidden": false,
         "locked": false,
         "points": 0.5
        },
        {
         "code": ">>> isinstance(output_preprocessing['route_id'].iloc[0], str)\nTrue",
         "failure_message": "correct route_id str",
         "hidden": false,
         "locked": false,
         "points": 0.5
        },
        {
         "code": ">>> output_preprocessing.iloc[0]['route_id'] == '201'\nTrue",
         "failure_message": "correct beginning bus route",
         "hidden": false,
         "locked": false,
         "points": 1
        },
        {
         "code": ">>> output_preprocessing.iloc[-1]['route_id'] == '10'\nTrue",
         "failure_message": "correct ending bus route",
         "hidden": false,
         "locked": false,
         "points": 1
        },
        {
         "code": ">>> 'data' in fig_data and isinstance(fig_data['data'], list)\nTrue",
         "failure_message": "plotly not formatted",
         "hidden": false,
         "locked": false,
         "points": 1
        },
        {
         "code": ">>> prep_2.shape == (224, 9)\nTrue",
         "failure_message": "correct shape",
         "hidden": false,
         "locked": false,
         "points": 1
        }
       ],
       "scored": true,
       "setup": "",
       "teardown": "",
       "type": "doctest"
      }
     ]
    },
    "q2": {
     "name": "q2",
     "points": null,
     "suites": [
      {
       "cases": [
        {
         "code": ">>> len(neighbors_output_na) == 0\nTrue",
         "failure_message": "invalid station names",
         "hidden": false,
         "locked": false,
         "points": 1
        },
        {
         "code": ">>> set(neighbors_output) == set(['VA Hospital', 'La Jolla Village Dr & Regents Rd'])\nTrue",
         "failure_message": "correct neighbors",
         "hidden": false,
         "locked": false,
         "points": 1
        },
        {
         "code": ">>> isinstance(bfs_output, pd.DataFrame)\nTrue",
         "failure_message": "correct output type",
         "hidden": false,
         "locked": false,
         "points": 0.5
        },
        {
         "code": ">>> set(bfs_output.columns) == set(['stop_name', 'stop_lat', 'stop_lon', 'stop_num'])\nTrue",
         "failure_message": "correct columns",
         "hidden": false,
         "locked": false,
         "points": 1
        },
        {
         "code": ">>> all(list(bfs_output.stop_num) == np.arange(1, len(list(bfs_output.stop_num)) + 1))\nTrue",
         "failure_message": "correct 'stop_num' concept",
         "hidden": false,
         "locked": false,
         "points": 1
        },
        {
         "code": ">>> bfs_output['stop_name'].iloc[0] == 'Gilman Dr & Eucalyptus Grove Ln'\nTrue",
         "failure_message": "correct start bus stop",
         "hidden": false,
         "locked": false,
         "points": 1
        },
        {
         "code": ">>> bfs_output['stop_name'].iloc[-1] == 'UTC Transit Center'\nTrue",
         "failure_message": "correct end bus stop",
         "hidden": false,
         "locked": false,
         "points": 0.5
        },
        {
         "code": ">>> bfs_output.shape == (6, 4)\nTrue",
         "failure_message": "correct shape",
         "hidden": false,
         "locked": false,
         "points": 0.5
        },
        {
         "code": ">>> bfs_hidden.shape == (4, 4)\nTrue",
         "failure_message": "correct shape",
         "hidden": false,
         "locked": false,
         "points": 0.5
        }
       ],
       "scored": true,
       "setup": "",
       "teardown": "",
       "type": "doctest"
      }
     ]
    },
    "q3": {
     "name": "q3",
     "points": null,
     "suites": [
      {
       "cases": [
        {
         "code": ">>> isinstance(bus_distribution, pd.DataFrame)\nTrue",
         "failure_message": "correct output type",
         "hidden": false,
         "locked": false,
         "points": 0.5
        },
        {
         "code": ">>> set(bus_distribution.columns) == set(['Arrival Time', 'Interval'])\nTrue",
         "failure_message": "correct columns",
         "hidden": false,
         "locked": false,
         "points": 0.5
        },
        {
         "code": ">>> bus_distribution.shape == (108, 2)\nTrue",
         "failure_message": "correct shape",
         "hidden": false,
         "locked": false,
         "points": 0.5
        },
        {
         "code": ">>> # isinstance(bus_distribution['Arrival Time'][0], str)\n>>> all(isinstance(i, str) for i in bus_distribution['Arrival Time'])\nTrue",
         "failure_message": "correct arrival time data type",
         "hidden": false,
         "locked": false,
         "points": 0.5
        },
        {
         "code": ">>> np.isclose(bus_distribution['Interval'].mean(), 10, atol=0.2)\nnp.True_",
         "failure_message": "correct rough interval time",
         "hidden": false,
         "locked": false,
         "points": 1
        }
       ],
       "scored": true,
       "setup": "",
       "teardown": "",
       "type": "doctest"
      }
     ]
    },
    "q4": {
     "name": "q4",
     "points": null,
     "suites": [
      {
       "cases": [
        {
         "code": ">>> isinstance(passenger_wait_times_df, pd.DataFrame)\nTrue",
         "failure_message": "correct output type",
         "hidden": false,
         "locked": false,
         "points": 0.5
        },
        {
         "code": ">>> set(passenger_wait_times_df.columns) == set(['Passenger Arrival Time', 'Bus Arrival Time', 'Bus Index', 'Wait Time'])\nTrue",
         "failure_message": "correct columns",
         "hidden": false,
         "locked": false,
         "points": 0.5
        },
        {
         "code": ">>> passenger_wait_times_df.shape == (1000, 4)\nTrue",
         "failure_message": "correct shape",
         "hidden": false,
         "locked": false,
         "points": 0.5
        },
        {
         "code": ">>> # isinstance(bus_distribution['Arrival Time'][0], str)\n>>> all(isinstance(i, float) for i in passenger_wait_times_df['Wait Time'])\nTrue",
         "failure_message": "correct wait time data type",
         "hidden": false,
         "locked": false,
         "points": 0.5
        },
        {
         "code": ">>> passenger_wait_times_df['Wait Time'].mean() > 0.5\nnp.True_",
         "failure_message": "wait time follows paradox",
         "hidden": false,
         "locked": false,
         "points": 1
        },
        {
         "code": ">>> passenger_wait_times_df['Bus Index'].max() <= 150 and passenger_wait_times_df['Bus Index'].min() >= 0\nnp.True_",
         "failure_message": "bus index within reasonable range",
         "hidden": false,
         "locked": false,
         "points": 0.5
        },
        {
         "code": ">>> all(trace.type == \"scatter\" for trace in fig_q4.data)\nTrue",
         "failure_message": "not all traces in the figure are of type scatter",
         "hidden": false,
         "locked": false,
         "points": 1
        }
       ],
       "scored": true,
       "setup": "",
       "teardown": "",
       "type": "doctest"
      }
     ]
    }
   }
  }
 },
 "nbformat": 4,
 "nbformat_minor": 5
}
